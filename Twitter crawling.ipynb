{
 "cells": [
  {
   "cell_type": "markdown",
   "metadata": {},
   "source": [
    "# Interim Project Assessment: Twitter information crawling & ETL"
   ]
  },
  {
   "cell_type": "markdown",
   "metadata": {},
   "source": [
    "##    1. About the program\n",
    "        1. Overall Goals\n",
    "          -   Crawl all tweets from the dedicated user.\n",
    "          -   Data cleansing, filtering out unused information from Twitter feed\n",
    "          -   Filtering twitter contents by specific keywords\n",
    "          -   Design the database and store relevant data\n",
    "\n",
    "        2. How to use the program?\n",
    "           -   Set specific keywords on python\n",
    "           -   Use Python tp capture data\n",
    "           -   Use PostgreSQL command or Python to load the data and analysis\n",
    "           -   Edit the ER-Diagram\n",
    "           -   SQLite3 run for python, PostgreSQL use for data visualization\n",
    "        \n",
    "        3. You can expect us to update the following in the next release\n",
    "           -   Details are given in Section 9        "
   ]
  },
  {
   "cell_type": "markdown",
   "metadata": {},
   "source": [
    "## 2. About the program tools\n",
    "    2.1 python --> Anconda\n",
    "        PostgreSQL\n",
    "        SQLite3\n",
    "    2.2 configparser\n",
    "        tweepy\n",
    "        pandas\n",
    "        sqlalchemy\n",
    "        psycopg2\n",
    "        json\n",
    "        time\n"
   ]
  },
  {
   "cell_type": "code",
   "execution_count": 6,
   "metadata": {},
   "outputs": [],
   "source": [
    "import configparser\n",
    "import tweepy\n",
    "import pandas as pd\n",
    "import sqlalchemy\n",
    "import psycopg2\n",
    "import json\n",
    "import time"
   ]
  },
  {
   "cell_type": "markdown",
   "metadata": {},
   "source": [
    "##    3. Input the variable : Global\n",
    "In terminal define the necessary parameters."
   ]
  },
  {
   "cell_type": "code",
   "execution_count": null,
   "metadata": {},
   "outputs": [
    {
     "name": "stdout",
     "output_type": "stream",
     "text": [
      "Define the necessary parmeters: \n"
     ]
    }
   ],
   "source": [
    "print('Define the necessary parmeters: ')\n",
    "user = (input('Please enter your target\\'s Twitter Username:' ))\n",
    "print('\\n')\n",
    "print('If you want to get the maximum, just click \"Enter/Return\" only: ')\n",
    "page = (input('Please enter the number of pages you want to crawl:'))"
   ]
  },
  {
   "cell_type": "markdown",
   "metadata": {},
   "source": [
    "## 4. Make sure you get the Twitter key"
   ]
  },
  {
   "cell_type": "code",
   "execution_count": null,
   "metadata": {},
   "outputs": [],
   "source": [
    "#read configs\n",
    "'''\n",
    "In this INI file, all keys for logging in to the API are saved.\n",
    "The beta version will use the developer key.\n",
    "If you need to define keys, please contact your developer or Twitter.\n",
    "    More detailed: https://developer.twitter.com/en\n",
    "'''\n",
    "config = configparser.ConfigParser()\n",
    "config.read('config.ini')\n",
    "api_key = config['twitter']['api_key']\n",
    "api_key_secret = config['twitter']['api_key_secret']\n",
    "access_token = config['twitter']['access_token']\n",
    "access_token_secret = config['twitter']['access_token_secret']\n",
    "\n"
   ]
  },
  {
   "cell_type": "markdown",
   "metadata": {},
   "source": [
    "## 5. Call the Tweepy and login"
   ]
  },
  {
   "cell_type": "code",
   "execution_count": 2,
   "metadata": {},
   "outputs": [
    {
     "ename": "IndentationError",
     "evalue": "unexpected indent (Temp/ipykernel_20956/971291118.py, line 2)",
     "output_type": "error",
     "traceback": [
      "\u001b[1;36m  File \u001b[1;32m\"C:\\Users\\LHT\\AppData\\Local\\Temp/ipykernel_20956/971291118.py\"\u001b[1;36m, line \u001b[1;32m2\u001b[0m\n\u001b[1;33m    About more API detailed: https://developer.twitter.com\u001b[0m\n\u001b[1;37m    ^\u001b[0m\n\u001b[1;31mIndentationError\u001b[0m\u001b[1;31m:\u001b[0m unexpected indent\n"
     ]
    }
   ],
   "source": [
    "    About more API detailed: https://developer.twitter.com\n",
    "    - Login V1.0 Free without limit\n",
    "    - Login V2: Limited use and capped free\n",
    "    \n",
    "    About how to choose the tools from tweepy, Please read the Tweepy.DOC\n",
    "    https://docs.tweepy.org/en/stable/\n",
    "    \n",
    "    Since our goal and for exam i will choose user_timeline(): For Example\n",
    "    "
   ]
  },
  {
   "cell_type": "code",
   "execution_count": 4,
   "metadata": {},
   "outputs": [
    {
     "ename": "NameError",
     "evalue": "name 'api_key' is not defined",
     "output_type": "error",
     "traceback": [
      "\u001b[1;31m---------------------------------------------------------------------------\u001b[0m",
      "\u001b[1;31mNameError\u001b[0m                                 Traceback (most recent call last)",
      "\u001b[1;32m~\\AppData\\Local\\Temp/ipykernel_18356/4142069237.py\u001b[0m in \u001b[0;36m<module>\u001b[1;34m\u001b[0m\n\u001b[0;32m      4\u001b[0m \u001b[1;33m\u001b[0m\u001b[0m\n\u001b[0;32m      5\u001b[0m \u001b[1;31m#login V1 and set the api:\u001b[0m\u001b[1;33m\u001b[0m\u001b[1;33m\u001b[0m\u001b[0m\n\u001b[1;32m----> 6\u001b[1;33m \u001b[0mauth\u001b[0m \u001b[1;33m=\u001b[0m \u001b[0mtweepy\u001b[0m\u001b[1;33m.\u001b[0m\u001b[0mOAuthHandler\u001b[0m\u001b[1;33m(\u001b[0m\u001b[0mapi_key\u001b[0m\u001b[1;33m,\u001b[0m \u001b[0mapi_key_secret\u001b[0m\u001b[1;33m)\u001b[0m\u001b[1;33m\u001b[0m\u001b[1;33m\u001b[0m\u001b[0m\n\u001b[0m\u001b[0;32m      7\u001b[0m \u001b[0mauth\u001b[0m\u001b[1;33m.\u001b[0m\u001b[0mset_access_token\u001b[0m\u001b[1;33m(\u001b[0m\u001b[0maccess_token\u001b[0m\u001b[1;33m,\u001b[0m \u001b[0maccess_token_secret\u001b[0m\u001b[1;33m)\u001b[0m\u001b[1;33m\u001b[0m\u001b[1;33m\u001b[0m\u001b[0m\n\u001b[0;32m      8\u001b[0m \u001b[0mapi\u001b[0m \u001b[1;33m=\u001b[0m \u001b[0mtweepy\u001b[0m\u001b[1;33m.\u001b[0m\u001b[0mAPI\u001b[0m\u001b[1;33m(\u001b[0m\u001b[0mauth\u001b[0m\u001b[1;33m)\u001b[0m\u001b[1;33m\u001b[0m\u001b[1;33m\u001b[0m\u001b[0m\n",
      "\u001b[1;31mNameError\u001b[0m: name 'api_key' is not defined"
     ]
    }
   ],
   "source": [
    "'''\n",
    "    when you want to call the V1 API, just call the 'api' \n",
    "'''\n",
    "\n",
    "#login V1 and set the api:\n",
    "auth = tweepy.OAuthHandler(api_key, api_key_secret)\n",
    "auth.set_access_token(access_token, access_token_secret)\n",
    "api = tweepy.API(auth)\n",
    "#login V2 and set the client:\n",
    "client = tweepy.Client(consumer_key = api_key,\n",
    "                       consumer_secret = api_key_secret,\n",
    "                       access_token = access_token,\n",
    "                       access_token_secret = access_token_secret)"
   ]
  },
  {
   "cell_type": "markdown",
   "metadata": {},
   "source": [
    "## 6. ETL - Extract\n",
    "### import tweepy  - python library imported in #5\n",
    "\n",
    "'''\n",
    "Call the tweepy.api.user_timeline() get the user infomation from twitter.\n",
    "    line 10 --> pages(x), text x you can input any int, for get a number pages infomation.\n",
    "    For all about info, we use append save in data(class list)\n",
    "    For each data type where key and velue is class json \n",
    "    maybe we need to show about json format, so import Json first\n",
    "'''"
   ]
  },
  {
   "cell_type": "code",
   "execution_count": null,
   "metadata": {},
   "outputs": [],
   "source": [
    "\n",
    "# fetching the user\n",
    "user1 =  api.get_user (screen_name= user)\n",
    "  \n",
    "# fetching the ID\n",
    "ID = user1.id_str\n",
    "Tweetuser = api.lookup_users(user_id=[ID])\n",
    "\n",
    "for i in range(len(Tweetuser)):\n",
    "    print ('Name - ' + Tweetuser[i].name)\n",
    "    print ('Bio - ' + Tweetuser[i].description)\n",
    "    print ('Location - ' + Tweetuser[i].location)\n",
    "    print ('Joined at - ' + str(Tweetuser[i].created_at))\n",
    "    print ('User ID - '+ Tweetuser[i].id_str)\n",
    "    \n",
    "    followers_count = user1.followers_count\n",
    "\n",
    "    print(\"Number of Followers - \" + str(followers_count))\n",
    "    print ('')\n",
    "def timeline(user):\n",
    "    data = []\n",
    "    for user_tweet in tweepy.Cursor(api.user_timeline,\n",
    "                                    screen_name = user,\n",
    "                                    tweet_mode = 'extended').pages(10):\n",
    "        time.sleep(2)\n",
    "        for i_json in user_tweet:\n",
    "            data.append(i_json._json)\n",
    "    return data\n",
    "data = timeline(user)\n",
    "print(data)"
   ]
  },
  {
   "cell_type": "markdown",
   "metadata": {},
   "source": [
    "## 7. ETL - Transform\n",
    "### set 0 Check the data\n",
    "### set 1 Auto drop null data\n",
    "### set 2 Manually delete redundant data\n",
    "### set 3 Check the data\n",
    "'''\n",
    "From the pandas handing\n",
    "'''"
   ]
  },
  {
   "cell_type": "code",
   "execution_count": 5,
   "metadata": {},
   "outputs": [
    {
     "ename": "NameError",
     "evalue": "name 'data' is not defined",
     "output_type": "error",
     "traceback": [
      "\u001b[1;31m---------------------------------------------------------------------------\u001b[0m",
      "\u001b[1;31mNameError\u001b[0m                                 Traceback (most recent call last)",
      "\u001b[1;32m~\\AppData\\Local\\Temp/ipykernel_18356/2804309885.py\u001b[0m in \u001b[0;36m<module>\u001b[1;34m\u001b[0m\n\u001b[0;32m     10\u001b[0m     \u001b[1;32mreturn\u001b[0m \u001b[0mcolumns\u001b[0m\u001b[1;33m\u001b[0m\u001b[1;33m\u001b[0m\u001b[0m\n\u001b[0;32m     11\u001b[0m \u001b[1;33m\u001b[0m\u001b[0m\n\u001b[1;32m---> 12\u001b[1;33m \u001b[0mdata_key\u001b[0m\u001b[1;33m(\u001b[0m\u001b[1;33m)\u001b[0m\u001b[1;33m\u001b[0m\u001b[1;33m\u001b[0m\u001b[0m\n\u001b[0m",
      "\u001b[1;32m~\\AppData\\Local\\Temp/ipykernel_18356/2804309885.py\u001b[0m in \u001b[0;36mdata_key\u001b[1;34m()\u001b[0m\n\u001b[0;32m      4\u001b[0m     \u001b[0mcolumns\u001b[0m \u001b[1;33m=\u001b[0m \u001b[1;33m[\u001b[0m\u001b[1;33m]\u001b[0m\u001b[1;33m\u001b[0m\u001b[1;33m\u001b[0m\u001b[0m\n\u001b[0;32m      5\u001b[0m \u001b[1;31m#here call the funtion and start to get data\u001b[0m\u001b[1;33m\u001b[0m\u001b[1;33m\u001b[0m\u001b[0m\n\u001b[1;32m----> 6\u001b[1;33m     \u001b[0mt_data_0\u001b[0m \u001b[1;33m=\u001b[0m \u001b[0mdata\u001b[0m\u001b[1;33m\u001b[0m\u001b[1;33m\u001b[0m\u001b[0m\n\u001b[0m\u001b[0;32m      7\u001b[0m     \u001b[1;32mfor\u001b[0m \u001b[0mkey\u001b[0m\u001b[1;33m,\u001b[0m\u001b[0mvalue\u001b[0m \u001b[1;32min\u001b[0m \u001b[0mt_data_0\u001b[0m\u001b[1;33m[\u001b[0m\u001b[1;36m0\u001b[0m\u001b[1;33m]\u001b[0m\u001b[1;33m.\u001b[0m\u001b[0mitems\u001b[0m\u001b[1;33m(\u001b[0m\u001b[1;33m)\u001b[0m\u001b[1;33m:\u001b[0m\u001b[1;33m\u001b[0m\u001b[1;33m\u001b[0m\u001b[0m\n\u001b[0;32m      8\u001b[0m         \u001b[0mcolumns\u001b[0m\u001b[1;33m.\u001b[0m\u001b[0mappend\u001b[0m\u001b[1;33m(\u001b[0m\u001b[0mkey\u001b[0m\u001b[1;33m)\u001b[0m\u001b[1;33m\u001b[0m\u001b[1;33m\u001b[0m\u001b[0m\n",
      "\u001b[1;31mNameError\u001b[0m: name 'data' is not defined"
     ]
    }
   ],
   "source": [
    "# The data source has these columns\n",
    "value = []\n",
    "def data_key():\n",
    "    columns = []\n",
    "#here call the funtion and start to get data\n",
    "    t_data_0 = data\n",
    "    for key,value in t_data_0[0].items():\n",
    "        columns.append(key)\n",
    "    print(columns)\n",
    "    return columns\n",
    "\n",
    "data_key()"
   ]
  },
  {
   "cell_type": "code",
   "execution_count": 26,
   "metadata": {},
   "outputs": [
    {
     "name": "stdout",
     "output_type": "stream",
     "text": [
      "                       created_at                   id               id_str  \\\n",
      "0  Mon May 09 17:06:02 +0000 2022  1523710900326309888  1523710900326309888   \n",
      "1  Sun May 08 18:01:33 +0000 2022  1523362483636908032  1523362483636908032   \n",
      "2  Sun May 08 15:43:01 +0000 2022  1523327622779969541  1523327622779969541   \n",
      "3  Sat May 07 23:39:00 +0000 2022  1523085018805202944  1523085018805202944   \n",
      "4  Sat May 07 19:00:04 +0000 2022  1523014824157847552  1523014824157847552   \n",
      "\n",
      "                                           full_text  truncated  \\\n",
      "0  I encourage Congressional Republicans to join ...      False   \n",
      "1  RT @POTUS: Happy Mother’s Day, @FLOTUS. You’re...      False   \n",
      "2  My mom believed the greatest virtue of all was...      False   \n",
      "3  When I took office, there were around 20 milli...      False   \n",
      "4  There have been only 3 months in the last 50 y...      False   \n",
      "\n",
      "  display_text_range                                           entities  \\\n",
      "0           [0, 220]  {'hashtags': [], 'symbols': [], 'user_mentions...   \n",
      "1           [0, 140]  {'hashtags': [], 'symbols': [], 'user_mentions...   \n",
      "2           [0, 209]  {'hashtags': [], 'symbols': [], 'user_mentions...   \n",
      "3           [0, 236]  {'hashtags': [], 'symbols': [], 'user_mentions...   \n",
      "4           [0, 267]  {'hashtags': [], 'symbols': [], 'user_mentions...   \n",
      "\n",
      "                                              source in_reply_to_status_id  \\\n",
      "0  <a href=\"https://sproutsocial.com\" rel=\"nofoll...                  None   \n",
      "1  <a href=\"http://twitter.com/download/iphone\" r...                  None   \n",
      "2  <a href=\"https://sproutsocial.com\" rel=\"nofoll...                  None   \n",
      "3  <a href=\"https://sproutsocial.com\" rel=\"nofoll...                  None   \n",
      "4  <a href=\"https://sproutsocial.com\" rel=\"nofoll...                  None   \n",
      "\n",
      "  in_reply_to_status_id_str  ...   geo coordinates place contributors  \\\n",
      "0                      None  ...  None        None  None         None   \n",
      "1                      None  ...  None        None  None         None   \n",
      "2                      None  ...  None        None  None         None   \n",
      "3                      None  ...  None        None  None         None   \n",
      "4                      None  ...  None        None  None         None   \n",
      "\n",
      "  is_quote_status retweet_count favorite_count favorited  retweeted  lang  \n",
      "0           False          1541           8380     False      False    en  \n",
      "1           False          5884              0     False      False    en  \n",
      "2           False          1926          13599     False      False    en  \n",
      "3           False          4126          26058     False      False    en  \n",
      "4           False          3036          16605     False      False    en  \n",
      "\n",
      "[5 rows x 24 columns]\n"
     ]
    }
   ],
   "source": [
    "# usually two-dimension can easy to read.\n",
    "df = pd.DataFrame(data,columns=columns)#.set_index('created_at')\n",
    "print(df.head())"
   ]
  },
  {
   "cell_type": "code",
   "execution_count": 30,
   "metadata": {
    "scrolled": true
   },
   "outputs": [
    {
     "name": "stdout",
     "output_type": "stream",
     "text": [
      "                       created_at                   id               id_str  \\\n",
      "0  Mon May 09 17:06:02 +0000 2022  1523710900326309888  1523710900326309888   \n",
      "1  Sun May 08 18:01:33 +0000 2022  1523362483636908032  1523362483636908032   \n",
      "2  Sun May 08 15:43:01 +0000 2022  1523327622779969541  1523327622779969541   \n",
      "3  Sat May 07 23:39:00 +0000 2022  1523085018805202944  1523085018805202944   \n",
      "4  Sat May 07 19:00:04 +0000 2022  1523014824157847552  1523014824157847552   \n",
      "\n",
      "                                           full_text  truncated  \\\n",
      "0  I encourage Congressional Republicans to join ...      False   \n",
      "1  RT @POTUS: Happy Mother’s Day, @FLOTUS. You’re...      False   \n",
      "2  My mom believed the greatest virtue of all was...      False   \n",
      "3  When I took office, there were around 20 milli...      False   \n",
      "4  There have been only 3 months in the last 50 y...      False   \n",
      "\n",
      "  display_text_range                                           entities  \\\n",
      "0           [0, 220]  {'hashtags': [], 'symbols': [], 'user_mentions...   \n",
      "1           [0, 140]  {'hashtags': [], 'symbols': [], 'user_mentions...   \n",
      "2           [0, 209]  {'hashtags': [], 'symbols': [], 'user_mentions...   \n",
      "3           [0, 236]  {'hashtags': [], 'symbols': [], 'user_mentions...   \n",
      "4           [0, 267]  {'hashtags': [], 'symbols': [], 'user_mentions...   \n",
      "\n",
      "                                              source  \\\n",
      "0  <a href=\"https://sproutsocial.com\" rel=\"nofoll...   \n",
      "1  <a href=\"http://twitter.com/download/iphone\" r...   \n",
      "2  <a href=\"https://sproutsocial.com\" rel=\"nofoll...   \n",
      "3  <a href=\"https://sproutsocial.com\" rel=\"nofoll...   \n",
      "4  <a href=\"https://sproutsocial.com\" rel=\"nofoll...   \n",
      "\n",
      "                                                user  is_quote_status  \\\n",
      "0  {'id': 939091, 'id_str': '939091', 'name': 'Jo...            False   \n",
      "1  {'id': 939091, 'id_str': '939091', 'name': 'Jo...            False   \n",
      "2  {'id': 939091, 'id_str': '939091', 'name': 'Jo...            False   \n",
      "3  {'id': 939091, 'id_str': '939091', 'name': 'Jo...            False   \n",
      "4  {'id': 939091, 'id_str': '939091', 'name': 'Jo...            False   \n",
      "\n",
      "   retweet_count  favorite_count  favorited  retweeted lang  \n",
      "0           1541            8380      False      False   en  \n",
      "1           5884               0      False      False   en  \n",
      "2           1926           13599      False      False   en  \n",
      "3           4126           26058      False      False   en  \n",
      "4           3036           16605      False      False   en  \n",
      "(200, 15)\n"
     ]
    }
   ],
   "source": [
    "# set 1 \n",
    "df = df.dropna(axis=1,how='all')\n",
    "print(df.head())\n",
    "print(df.shape)"
   ]
  },
  {
   "cell_type": "code",
   "execution_count": 31,
   "metadata": {
    "scrolled": true
   },
   "outputs": [
    {
     "name": "stdout",
     "output_type": "stream",
     "text": [
      "                         created_at                   id               id_str  \\\n",
      "0    Mon May 09 17:06:02 +0000 2022  1523710900326309888  1523710900326309888   \n",
      "1    Sun May 08 18:01:33 +0000 2022  1523362483636908032  1523362483636908032   \n",
      "2    Sun May 08 15:43:01 +0000 2022  1523327622779969541  1523327622779969541   \n",
      "3    Sat May 07 23:39:00 +0000 2022  1523085018805202944  1523085018805202944   \n",
      "4    Sat May 07 19:00:04 +0000 2022  1523014824157847552  1523014824157847552   \n",
      "..                              ...                  ...                  ...   \n",
      "195  Tue Feb 22 22:11:32 +0000 2022  1496246304627957766  1496246304627957766   \n",
      "196  Tue Feb 22 00:38:04 +0000 2022  1495920792818925568  1495920792818925568   \n",
      "197  Sat Feb 19 23:05:56 +0000 2022  1495172832669704193  1495172832669704193   \n",
      "198  Fri Feb 18 23:54:01 +0000 2022  1494822544385449984  1494822544385449984   \n",
      "199  Fri Feb 18 22:48:09 +0000 2022  1494805968793841672  1494805968793841672   \n",
      "\n",
      "                                             full_text  truncated  \\\n",
      "0    I encourage Congressional Republicans to join ...      False   \n",
      "1    RT @POTUS: Happy Mother’s Day, @FLOTUS. You’re...      False   \n",
      "2    My mom believed the greatest virtue of all was...      False   \n",
      "3    When I took office, there were around 20 milli...      False   \n",
      "4    There have been only 3 months in the last 50 y...      False   \n",
      "..                                                 ...        ...   \n",
      "195  RT @POTUS: At every step, we have shown that t...      False   \n",
      "196  RT @POTUS: I have signed an Executive Order to...      False   \n",
      "197  RT @POTUS: On this Day of Remembrance of Japan...      False   \n",
      "198  The Great Lakes provide more drinking water th...      False   \n",
      "199  RT @POTUS: The American people are united. Eur...      False   \n",
      "\n",
      "    display_text_range                                           entities  \\\n",
      "0             [0, 220]  {'hashtags': [], 'symbols': [], 'user_mentions...   \n",
      "1             [0, 140]  {'hashtags': [], 'symbols': [], 'user_mentions...   \n",
      "2             [0, 209]  {'hashtags': [], 'symbols': [], 'user_mentions...   \n",
      "3             [0, 236]  {'hashtags': [], 'symbols': [], 'user_mentions...   \n",
      "4             [0, 267]  {'hashtags': [], 'symbols': [], 'user_mentions...   \n",
      "..                 ...                                                ...   \n",
      "195           [0, 140]  {'hashtags': [], 'symbols': [], 'user_mentions...   \n",
      "196           [0, 140]  {'hashtags': [], 'symbols': [], 'user_mentions...   \n",
      "197           [0, 140]  {'hashtags': [], 'symbols': [], 'user_mentions...   \n",
      "198           [0, 265]  {'hashtags': [], 'symbols': [], 'user_mentions...   \n",
      "199           [0, 140]  {'hashtags': [], 'symbols': [], 'user_mentions...   \n",
      "\n",
      "                                                source  \\\n",
      "0    <a href=\"https://sproutsocial.com\" rel=\"nofoll...   \n",
      "1    <a href=\"http://twitter.com/download/iphone\" r...   \n",
      "2    <a href=\"https://sproutsocial.com\" rel=\"nofoll...   \n",
      "3    <a href=\"https://sproutsocial.com\" rel=\"nofoll...   \n",
      "4    <a href=\"https://sproutsocial.com\" rel=\"nofoll...   \n",
      "..                                                 ...   \n",
      "195  <a href=\"https://mobile.twitter.com\" rel=\"nofo...   \n",
      "196  <a href=\"http://twitter.com/download/iphone\" r...   \n",
      "197  <a href=\"http://twitter.com/download/iphone\" r...   \n",
      "198  <a href=\"https://sproutsocial.com\" rel=\"nofoll...   \n",
      "199  <a href=\"https://mobile.twitter.com\" rel=\"nofo...   \n",
      "\n",
      "                                                  user  is_quote_status  \\\n",
      "0    {'id': 939091, 'id_str': '939091', 'name': 'Jo...            False   \n",
      "1    {'id': 939091, 'id_str': '939091', 'name': 'Jo...            False   \n",
      "2    {'id': 939091, 'id_str': '939091', 'name': 'Jo...            False   \n",
      "3    {'id': 939091, 'id_str': '939091', 'name': 'Jo...            False   \n",
      "4    {'id': 939091, 'id_str': '939091', 'name': 'Jo...            False   \n",
      "..                                                 ...              ...   \n",
      "195  {'id': 939091, 'id_str': '939091', 'name': 'Jo...            False   \n",
      "196  {'id': 939091, 'id_str': '939091', 'name': 'Jo...            False   \n",
      "197  {'id': 939091, 'id_str': '939091', 'name': 'Jo...            False   \n",
      "198  {'id': 939091, 'id_str': '939091', 'name': 'Jo...            False   \n",
      "199  {'id': 939091, 'id_str': '939091', 'name': 'Jo...            False   \n",
      "\n",
      "     retweet_count  favorite_count  favorited  retweeted lang  \n",
      "0             1541            8380      False      False   en  \n",
      "1             5884               0      False      False   en  \n",
      "2             1926           13599      False      False   en  \n",
      "3             4126           26058      False      False   en  \n",
      "4             3036           16605      False      False   en  \n",
      "..             ...             ...        ...        ...  ...  \n",
      "195           5885               0      False      False   en  \n",
      "196          18761               0      False      False   en  \n",
      "197           3813               0      False      False   en  \n",
      "198           3027           22359      False      False   en  \n",
      "199          11324               0      False      False   en  \n",
      "\n",
      "[200 rows x 15 columns]\n"
     ]
    }
   ],
   "source": [
    "# 手動檢索刪除 發現有大量False，id有兩列，無可讀性或冗余， 清除\n",
    "# 經過檢查，侷限使用usertime（） 如果更替為其他檢索工具，需要再校對代碼\n",
    "\n",
    "#missing_values 是經過手動檢索需要刪除都列類別。（為多列刪除）\n",
    "missing_values = ['id_str','truncated','is_quote_status','favorited','retweeted']\n",
    "\n",
    "#指定的單列刪除\n",
    "#del df['id_str']\n",
    "\n",
    "#執行對missing_values 列表的指定刪除列\n",
    "df1 = df.drop(missing_values,axis = 1, inplace = False)\n",
    "\n",
    "#對刪除列後結果進行輸出\n",
    "print(df)\n",
    "                                                                                    #print(df.iloc[:,6])\n",
    "\n"
   ]
  },
  {
   "cell_type": "code",
   "execution_count": 32,
   "metadata": {
    "scrolled": true
   },
   "outputs": [
    {
     "name": "stdout",
     "output_type": "stream",
     "text": [
      "                       created_at                   id  \\\n",
      "0  Mon May 09 17:06:02 +0000 2022  1523710900326309888   \n",
      "1  Sun May 08 18:01:33 +0000 2022  1523362483636908032   \n",
      "2  Sun May 08 15:43:01 +0000 2022  1523327622779969541   \n",
      "3  Sat May 07 23:39:00 +0000 2022  1523085018805202944   \n",
      "4  Sat May 07 19:00:04 +0000 2022  1523014824157847552   \n",
      "\n",
      "                                           full_text  retweet_count  \\\n",
      "0  I encourage Congressional Republicans to join ...           1541   \n",
      "1  RT @POTUS: Happy Mother’s Day, @FLOTUS. You’re...           5884   \n",
      "2  My mom believed the greatest virtue of all was...           1926   \n",
      "3  When I took office, there were around 20 milli...           4126   \n",
      "4  There have been only 3 months in the last 50 y...           3036   \n",
      "\n",
      "   favorite_count  \n",
      "0            8380  \n",
      "1               0  \n",
      "2           13599  \n",
      "3           26058  \n",
      "4           16605  \n"
     ]
    }
   ],
   "source": [
    "# set 3\n",
    "#df1 為全局定義，保留可讀性數據\n",
    "#df2 為全局定義，保留指定數據\n",
    "#經過過濾後的結果，只保留了以下資料： df2\n",
    "df2 =df1.drop(['display_text_range','entities','source','user','lang'],axis = 1, inplace = False)\n",
    "'''\n",
    "    - 創建推文的時間 created_at\n",
    "    - 推文所屬的識別號 id\n",
    "    - 推文的全文內容 full_text \n",
    "    - 推文的讚好量 favorite_count\n",
    "    - 推文的轉發量 retweet_count\n",
    "    '''\n",
    "print(df2.head())"
   ]
  },
  {
   "cell_type": "code",
   "execution_count": 37,
   "metadata": {},
   "outputs": [
    {
     "name": "stdout",
     "output_type": "stream",
     "text": [
      "0      False\n",
      "1      False\n",
      "2      False\n",
      "3      False\n",
      "4       True\n",
      "       ...  \n",
      "195    False\n",
      "196    False\n",
      "197    False\n",
      "198    False\n",
      "199    False\n",
      "Name: full_text, Length: 200, dtype: bool\n",
      " \n",
      "對滿足過濾條件的recode 標記為True\n",
      "全局定義： df3\n"
     ]
    }
   ],
   "source": [
    "# 過濾關鍵字數據\n",
    "#臨時設定～需要加入Input ·以及數量，需要多個過濾關鍵字～\n",
    "df3 = df['full_text'].str.contains('covid|virus|vaccin',case=False)\n",
    "print(df3)\n",
    "print(\" \")\n",
    "print('對滿足過濾條件的recode 標記為True')\n",
    "print('全局定義： df3')"
   ]
  },
  {
   "cell_type": "markdown",
   "metadata": {},
   "source": [
    "## 8. ETL - L\n",
    "### Use SQLite3 to store in the database, generate .DB database file.(通用型.DB)\n",
    "### Out put to PostgreSQL and Get visual database operations.(數據庫可視化管理)"
   ]
  },
  {
   "cell_type": "code",
   "execution_count": 38,
   "metadata": {},
   "outputs": [
    {
     "name": "stdout",
     "output_type": "stream",
     "text": [
      "plz text where you want to save the database file from SQLite3/Users/rockylee/Downloads/assessment_SQLite_3/pj_db_twitter.db\n",
      "/Users/rockylee/Downloads/assessment_SQLite_3/pj_db_twitter.db\n"
     ]
    }
   ],
   "source": [
    "sqlite3_db = input(\"plz text where you want to save the database file from SQLite3\")\n",
    "print(sqlite3_db)"
   ]
  },
  {
   "cell_type": "code",
   "execution_count": 40,
   "metadata": {},
   "outputs": [],
   "source": [
    "# SQLite3\n",
    "# call the local Datebase, Prepare to use data to save post-translation data\n",
    "db_location = sqlite3_db\n",
    "def sql_command(q):\n",
    "    engine = sqlalchemy.create_engine(\"sqlite:///{}\".format(db_location))\n",
    "    df2 = pd.read_sql(q , engine)\n",
    "    print(df2)\n",
    "    print('\\n')\n",
    "\n",
    "\n",
    "#Prepare to enable SQlite3\n",
    "'''\n",
    "If you enter wrong instructions, the program will terminate.\n",
    "Rerun the program if necessary.\n",
    "'''\n",
    "def sql(command):\n",
    "    while(True):\n",
    "        sql = str(input('what\\'s your SQL command:'))\n",
    "        sql_command(sql)\n",
    "    print('Your command is wrong. Program terminates.')"
   ]
  },
  {
   "cell_type": "code",
   "execution_count": null,
   "metadata": {},
   "outputs": [],
   "source": [
    "#為轉錄後數據存入SQLite3 生成通用型.DB文件\n",
    "# import time\n",
    "#定義主資料表關機字 data lake～～\n",
    "main_user = 'main_' + str(user)\n",
    "\n",
    "#創建主數據表\n",
    "create_df = '''CREATE TABLE IF NOT EXISTS \\\n",
    "\"{}\" (created_at datetime,\\\n",
    "id int,\\\n",
    "twitter text,\\\n",
    "like_count int,\\\n",
    "retweet_count int,\\\n",
    "filtering bool);'''.format(main_user)\n",
    "#執行表格創建\n",
    "try:\n",
    "    sql_command(create_df)\n",
    "except:\n",
    "    print('Create Table {} is successful.'.format(main_user))\n",
    "\n",
    "#插入主數據表數據\n",
    "'''.replace('\\'',' ')\n",
    "maybe values[2] need to add this command\n",
    "'''\n",
    "count_successful = 0\n",
    "for i in df2.index:\n",
    "    time.sleep(1)\n",
    "    sql_command_insert = \"\"\" insert or ignore into \"{}\" values ('{}','{}','{}','{}','{}','{}');\"\"\"\\\n",
    "    .format(main_user,\\\n",
    "            str(df2.loc[i].values[0]),\\\n",
    "            str(df2.loc[i].values[1]),\\\n",
    "            str(df2.loc[i].values[2]),\\\n",
    "            str(df2.loc[i].values[3]),\\\n",
    "            str(df2.loc[i].values[4]),\\\n",
    "            df3.loc[i])\n",
    "    count_successful += 1\n",
    "    #sql_command(sql_command_insert)\n",
    "    try:\n",
    "        sql_command(sql_command_insert)\n",
    "    except:\n",
    "        print('successful adding: ' + str(count_successful) + ' record.')"
   ]
  },
  {
   "cell_type": "code",
   "execution_count": null,
   "metadata": {},
   "outputs": [],
   "source": [
    "conn = psycopg2.connect(database = 'test',user = 'postgres', \\\n",
    "                                password = '1234', host = '127.0.0.1',port='5432')\n",
    "cursor = conn.cursor()\n",
    "for user_info in tweepy.Cursor(api.user_timeline,\n",
    "                              screen_name = user,\n",
    "                              tweet_mode = 'extended').pages():\n",
    "    for search_info in user_info:        \n",
    "        id = search_info.id\n",
    "        Twitter = search_info.full_text.replace('\\'',' ')\n",
    "        created_at = search_info.created_at\n",
    "        like_count = search_info.favorite_count\n",
    "        retweet_count = search_info.retweet_count\n",
    "        sql_command = \"\"\"insert into python_info values ({},'{}','{}',{},{});\"\"\" \\\n",
    "            .format(id,str(Twitter),str(created_at),like_count,retweet_count)\n",
    "        n+=1\n",
    "        print(sql_command)\n",
    "        cursor.execute(sql_command)\n",
    "        data.append([search_info.id,\n",
    "                     search_info.full_text,\n",
    "                     search_info.created_at,\n",
    "                     search_info.favorite_count,\n",
    "                     search_info.retweet_count])\n",
    "print('total insert: ' + str(n) + 'rows record.')\n",
    "#print(type(data))\n",
    "df = pd.DataFrame(data, columns=columns)\n",
    "print(df)\n",
    "df2 = df[df['Twitter'].str.contains('covid|virus|vaccin',case=False)]\n",
    "#print(df2.iloc[:,0])\n",
    "m=0\n",
    "cursor.execute(\"\"\"CREATE TABLE public.joe_key (id character varying(20));\"\"\")\n",
    "for i in df2.iloc[:,0]:\n",
    "    cursor.execute(\"\"\"insert into joe_key values({});\"\"\".format(i))\n",
    "    m+=1\n",
    "print('total insert filtering key word: ' + str(m)+ 'rows record.')\n",
    "\n",
    "conn.commit()\n",
    "cursor.close()\n",
    "conn.close()\n"
   ]
  },
  {
   "cell_type": "markdown",
   "metadata": {},
   "source": [
    "## 9. About the next version\n",
    "### Break down the number of people we're tracking.\n",
    "### Use numpy to analyze data and generate charts.\n",
    "### Upload to GitHub and Timed run to get data and save it.\n"
   ]
  }
 ],
 "metadata": {
  "interpreter": {
   "hash": "e965bc198538e62adeefa40c494ad8b268044c3e779077ed39ee443a24042832"
  },
  "kernelspec": {
   "display_name": "Python 3 (ipykernel)",
   "language": "python",
   "name": "python3"
  },
  "language_info": {
   "codemirror_mode": {
    "name": "ipython",
    "version": 3
   },
   "file_extension": ".py",
   "mimetype": "text/x-python",
   "name": "python",
   "nbconvert_exporter": "python",
   "pygments_lexer": "ipython3",
   "version": "3.9.7"
  }
 },
 "nbformat": 4,
 "nbformat_minor": 2
}
